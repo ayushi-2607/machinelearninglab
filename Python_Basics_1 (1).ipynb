{
  "nbformat": 4,
  "nbformat_minor": 0,
  "metadata": {
    "kernelspec": {
      "name": "python3",
      "display_name": "Python 3",
      "language": "python"
    },
    "language_info": {
      "mimetype": "text/x-python",
      "nbconvert_exporter": "python",
      "name": "python",
      "pygments_lexer": "ipython3",
      "version": "3.5.4",
      "file_extension": ".py",
      "codemirror_mode": {
        "version": 3,
        "name": "ipython"
      }
    },
    "colab": {
      "name": "Python_Basics_1.ipynb",
      "provenance": [],
      "collapsed_sections": []
    }
  },
  "cells": [
    {
      "cell_type": "markdown",
      "metadata": {
        "id": "Rvbb-z4sG5sf",
        "colab_type": "text"
      },
      "source": [
        "# Python fundamentals"
      ]
    },
    {
      "cell_type": "markdown",
      "metadata": {
        "id": "ek4PGqxdG5sk",
        "colab_type": "text"
      },
      "source": [
        "### print() function"
      ]
    },
    {
      "cell_type": "markdown",
      "metadata": {
        "id": "FWf6GfGNG5sm",
        "colab_type": "raw"
      },
      "source": [
        "print(\"Acropolis\")"
      ]
    },
    {
      "cell_type": "markdown",
      "metadata": {
        "id": "PtDg6KhQG5sn",
        "colab_type": "text"
      },
      "source": [
        "### Comments"
      ]
    },
    {
      "cell_type": "code",
      "metadata": {
        "trusted": true,
        "id": "opEi0UOgG5sp",
        "colab_type": "code",
        "colab": {
          "base_uri": "https://localhost:8080/",
          "height": 34
        },
        "outputId": "99980cd0-74d5-4265-955d-7bf9d8a11313"
      },
      "source": [
        "# First Program\n",
        "print(\"Acropolis\")"
      ],
      "execution_count": 1,
      "outputs": [
        {
          "output_type": "stream",
          "text": [
            "Acropolis\n"
          ],
          "name": "stdout"
        }
      ]
    },
    {
      "cell_type": "markdown",
      "metadata": {
        "id": "-PwiE7I2G5sv",
        "colab_type": "text"
      },
      "source": [
        "### Variables"
      ]
    },
    {
      "cell_type": "code",
      "metadata": {
        "trusted": false,
        "id": "4h_N96TEG5sx",
        "colab_type": "code",
        "colab": {
          "base_uri": "https://localhost:8080/",
          "height": 34
        },
        "outputId": "4f085575-bd95-4098-8c2c-258bda87b559"
      },
      "source": [
        "# In Python there is no need to mention the data type\n",
        "\n",
        "var1 = 20      # An integer assignment\n",
        "var2 = 4.123   # A floating point\n",
        "var3 = \"India\" # A string\n",
        "\n",
        "print(var1,' ',var2,' ',var3)"
      ],
      "execution_count": 5,
      "outputs": [
        {
          "output_type": "stream",
          "text": [
            "20   4.123   India\n"
          ],
          "name": "stdout"
        }
      ]
    },
    {
      "cell_type": "markdown",
      "metadata": {
        "id": "OJjSBDPUG5s1",
        "colab_type": "text"
      },
      "source": [
        "### Assignment"
      ]
    },
    {
      "cell_type": "code",
      "metadata": {
        "scrolled": true,
        "trusted": false,
        "id": "D_J2d-iLG5s3",
        "colab_type": "code",
        "colab": {
          "base_uri": "https://localhost:8080/",
          "height": 51
        },
        "outputId": "f59b575d-190b-47ef-dc50-5631c0acc5a0"
      },
      "source": [
        "# general syntax\n",
        "#variable-name=value\n",
        "\n",
        "# Assigning same value to multiple variables\n",
        "\n",
        "var1 = var2 = var3 = 1\n",
        "print(var1,' ',var2,' ',var3)\n",
        "\n",
        "# Assigning Different values to variable in a single expression\n",
        "\n",
        "var1, var2, var3 = 1, 2.5, \"Sachin\"\n",
        "print(var1,' ',var2,' ',var3)\n",
        "\n",
        "# Note: commas can be used for multi-assignments"
      ],
      "execution_count": 6,
      "outputs": [
        {
          "output_type": "stream",
          "text": [
            "1   1   1\n",
            "1   2.5   Sachin\n"
          ],
          "name": "stdout"
        }
      ]
    },
    {
      "cell_type": "markdown",
      "metadata": {
        "id": "xDs1JHtIG5s8",
        "colab_type": "text"
      },
      "source": [
        "### Taking input"
      ]
    },
    {
      "cell_type": "code",
      "metadata": {
        "scrolled": true,
        "trusted": true,
        "id": "56pGA0vmG5s9",
        "colab_type": "code",
        "colab": {
          "base_uri": "https://localhost:8080/",
          "height": 68
        },
        "outputId": "4142c7ee-cc79-42d2-a0bc-9cd6a0907915"
      },
      "source": [
        "firstname = input(\"Enter your first name: \")\n",
        "lastname = input(\"Enter your second name: \")\n",
        "semester = input(\"Enter your semester: \")"
      ],
      "execution_count": 7,
      "outputs": [
        {
          "output_type": "stream",
          "text": [
            "Enter your first name: arif\n",
            "Enter your second name: patel\n",
            "Enter your semester: 6\n"
          ],
          "name": "stdout"
        }
      ]
    },
    {
      "cell_type": "code",
      "metadata": {
        "trusted": false,
        "id": "U3RV2XeRG5tD",
        "colab_type": "code",
        "colab": {
          "base_uri": "https://localhost:8080/",
          "height": 51
        },
        "outputId": "68604a3a-dc78-41ae-b0ac-b48a411f87b1"
      },
      "source": [
        "# run below code\n",
        "age = input(\"Enter your age: \")\n",
        "age = int(age)+5\n",
        "print(age)"
      ],
      "execution_count": 9,
      "outputs": [
        {
          "output_type": "stream",
          "text": [
            "Enter your age: 16\n",
            "21\n"
          ],
          "name": "stdout"
        }
      ]
    },
    {
      "cell_type": "markdown",
      "metadata": {
        "id": "MpWzqas4G5tH",
        "colab_type": "text"
      },
      "source": [
        "### Write a program in Python for data type conversion from: \n",
        "- int to string\n",
        "- int to float\n",
        "- string to int\n",
        "- string to float\n",
        "- float to int\n",
        "- float to string"
      ]
    },
    {
      "cell_type": "code",
      "metadata": {
        "trusted": false,
        "id": "EohYaD0jG5tJ",
        "colab_type": "code",
        "colab": {
          "base_uri": "https://localhost:8080/",
          "height": 102
        },
        "outputId": "e31e7362-c825-4421-93ff-4f38fc1aa355"
      },
      "source": [
        "a=10\n",
        "print(str(a))\n",
        "print(float(a))\n",
        "\n",
        "b='20'\n",
        "print(int(b))\n",
        "print(float(b))\n",
        "\n",
        "c=23.56\n",
        "#write code here to convert float into integer\n",
        "print(int(c))\n",
        "#write code here to convert float into string"
      ],
      "execution_count": 10,
      "outputs": [
        {
          "output_type": "stream",
          "text": [
            "10\n",
            "10.0\n",
            "20\n",
            "20.0\n",
            "23\n"
          ],
          "name": "stdout"
        }
      ]
    },
    {
      "cell_type": "markdown",
      "metadata": {
        "id": "3SQpXHpgG5tN",
        "colab_type": "text"
      },
      "source": [
        "### Task1: \n",
        "#### WAP to display your infomation like (full name, branch, university name, age, 12th %, hobbies). Store each value into some meaningful variable.  the ouptput of the program should look like"
      ]
    },
    {
      "cell_type": "markdown",
      "metadata": {
        "id": "ywMVDdXkG5tO",
        "colab_type": "raw"
      },
      "source": [
        "My name is :\n",
        "I am in CSE branch at (College/University) : \n",
        "I am 18 year old   \n",
        "My Higher Secondary % is :\n",
        "My hobbies are : "
      ]
    },
    {
      "cell_type": "code",
      "metadata": {
        "trusted": false,
        "id": "NcmrqUkXG5tQ",
        "colab_type": "code",
        "colab": {
          "base_uri": "https://localhost:8080/",
          "height": 119
        },
        "outputId": "b01db9ca-8742-4b1d-8eaa-73733abdd335"
      },
      "source": [
        "# write your code after this line\n",
        "\n",
        "fullname= input(\"Enter your fullname name: \")\n",
        "branch=input(\"Enter your branch name: \")\n",
        "universityname=input(\"Enter your university name: \")\n",
        "age=input(\"Enter your age: \")\n",
        "percent=input(\"Enter your 12%percent: \")\n",
        "hobbies=input(\"Enter your hobbies: \")"
      ],
      "execution_count": 14,
      "outputs": [
        {
          "output_type": "stream",
          "text": [
            "Enter your fullname name: arif patel\n",
            "Enter your branch name: cs\n",
            "Enter your university name: rgpv\n",
            "Enter your age: 21\n",
            "Enter your 12%percent: 85\n",
            "Enter your hobbies: cricket, see movies\n"
          ],
          "name": "stdout"
        }
      ]
    },
    {
      "cell_type": "markdown",
      "metadata": {
        "id": "aUn64sgNG5tU",
        "colab_type": "text"
      },
      "source": [
        "### Commmonly used functions \n",
        "- round(n)\n",
        "- format(n, '0.2f')\n",
        "- format(n,',') # put a comma on thousand place\n",
        "- format(n,'b') # print binary of the number, 'o', 'x'\n",
        "\n",
        "- eval(expression)\n",
        "- chr(n)\n",
        "- ord(character)\n",
        "- bin(n), oct(n), hex(n)\n",
        "\n",
        "- #### function on string/character data\n",
        "- isdigit()\n",
        "- isalpha()\n",
        "- isspace()\n",
        "- numeric()\n",
        "- ljust(width)\n",
        "- rjust(width)\n",
        "- cjust(width)"
      ]
    },
    {
      "cell_type": "code",
      "metadata": {
        "scrolled": true,
        "trusted": true,
        "id": "nkRXM4BJG5tV",
        "colab_type": "code",
        "colab": {
          "base_uri": "https://localhost:8080/",
          "height": 68
        },
        "outputId": "ebba3ca0-b260-47a7-c568-0e0d5be32f8b"
      },
      "source": [
        "# Python3 program to demonstarte \n",
        "# the str.format() method \n",
        "  \n",
        "# using format option in a simple string \n",
        "print (\"{}, A computer science portal for acropolis.\"\n",
        "                        .format(\"acropolis\")) \n",
        "  \n",
        "# using format option for a \n",
        "# value stored in a variable \n",
        "str = \"This article is written in {}\"\n",
        "print (str.format(\"Python\")) \n",
        "  \n",
        "# formatting a string using a numeric constant \n",
        "print (\"Hello, I am {} years old !\".format(18))  "
      ],
      "execution_count": 15,
      "outputs": [
        {
          "output_type": "stream",
          "text": [
            "acropolis, A computer science portal for acropolis.\n",
            "This article is written in Python\n",
            "Hello, I am 18 years old !\n"
          ],
          "name": "stdout"
        }
      ]
    },
    {
      "cell_type": "code",
      "metadata": {
        "trusted": false,
        "id": "m50gn_tsG5tb",
        "colab_type": "code",
        "colab": {
          "base_uri": "https://localhost:8080/",
          "height": 51
        },
        "outputId": "391f46ee-99e2-4e58-f23c-7e4bc18e8765"
      },
      "source": [
        "# Characters and their ASCII value\n",
        "\n",
        "x=68\n",
        "# print character corresponding to x \n",
        "print(chr(x))\n",
        "char='D'\n",
        "# print number corresponding to char\n",
        "print(ord(char))"
      ],
      "execution_count": 16,
      "outputs": [
        {
          "output_type": "stream",
          "text": [
            "D\n",
            "68\n"
          ],
          "name": "stdout"
        }
      ]
    },
    {
      "cell_type": "code",
      "metadata": {
        "trusted": true,
        "id": "b0mbEsRfG5tg",
        "colab_type": "code",
        "colab": {
          "base_uri": "https://localhost:8080/",
          "height": 34
        },
        "outputId": "292baeab-6383-4e40-b75e-344d893a2807"
      },
      "source": [
        "# write code to print your name 10 times\n",
        "print('ACROPOLIS'*10)"
      ],
      "execution_count": 17,
      "outputs": [
        {
          "output_type": "stream",
          "text": [
            "ACROPOLISACROPOLISACROPOLISACROPOLISACROPOLISACROPOLISACROPOLISACROPOLISACROPOLISACROPOLIS\n"
          ],
          "name": "stdout"
        }
      ]
    },
    {
      "cell_type": "code",
      "metadata": {
        "trusted": true,
        "id": "HQhqPPfaG5tl",
        "colab_type": "code",
        "colab": {
          "base_uri": "https://localhost:8080/",
          "height": 102
        },
        "outputId": "46e8191a-0bf3-44fc-f48c-93d035aa78f0"
      },
      "source": [
        "for i in range(5):\n",
        "    print(\"*\"*i)"
      ],
      "execution_count": 18,
      "outputs": [
        {
          "output_type": "stream",
          "text": [
            "\n",
            "*\n",
            "**\n",
            "***\n",
            "****\n"
          ],
          "name": "stdout"
        }
      ]
    },
    {
      "cell_type": "code",
      "metadata": {
        "trusted": true,
        "id": "v5QAgvn8G5tp",
        "colab_type": "code",
        "colab": {
          "base_uri": "https://localhost:8080/",
          "height": 34
        },
        "outputId": "9e9a4e57-1022-49f6-f682-7f7c62d34355"
      },
      "source": [
        "# use seperator and end with specific symbol\n",
        "a, b, c = 10, 20, 30\n",
        "print(a,b,c,sep=':',end=',')"
      ],
      "execution_count": 19,
      "outputs": [
        {
          "output_type": "stream",
          "text": [
            "10:20:30,"
          ],
          "name": "stdout"
        }
      ]
    },
    {
      "cell_type": "code",
      "metadata": {
        "trusted": true,
        "id": "IxLqu9XZG5tt",
        "colab_type": "code",
        "colab": {
          "base_uri": "https://localhost:8080/",
          "height": 85
        },
        "outputId": "b47a5dad-14b3-4230-987f-8f62f09faa59"
      },
      "source": [
        "for i in range(1,5):\n",
        "    print(\" \"*(5-i),\"*\"*i)"
      ],
      "execution_count": 21,
      "outputs": [
        {
          "output_type": "stream",
          "text": [
            "     *\n",
            "    **\n",
            "   ***\n",
            "  ****\n"
          ],
          "name": "stdout"
        }
      ]
    },
    {
      "cell_type": "code",
      "metadata": {
        "trusted": false,
        "id": "GFIBWQUtG5tx",
        "colab_type": "code",
        "colab": {
          "base_uri": "https://localhost:8080/",
          "height": 34
        },
        "outputId": "9dcca8c1-c63c-4e59-a977-75e5d525e1ac"
      },
      "source": [
        "# unpack characters\n",
        "word = 'PYTH'\n",
        "a,b,c,d = word\n",
        "print(a,b,c,d)"
      ],
      "execution_count": 28,
      "outputs": [
        {
          "output_type": "stream",
          "text": [
            "P Y T H\n"
          ],
          "name": "stdout"
        }
      ]
    },
    {
      "cell_type": "markdown",
      "metadata": {
        "id": "XOxjxinfG5t1",
        "colab_type": "text"
      },
      "source": [
        "### Format output"
      ]
    },
    {
      "cell_type": "code",
      "metadata": {
        "colab_type": "code",
        "id": "EJWEn5P4cfOd",
        "trusted": true,
        "colab": {
          "base_uri": "https://localhost:8080/",
          "height": 34
        },
        "outputId": "864b9e6f-d3a7-4dcb-901f-0198bba60bd0"
      },
      "source": [
        "x = 5 \n",
        "y = 10\n",
        "print('The value of x is {} and y is {}'.format(x,y))"
      ],
      "execution_count": 29,
      "outputs": [
        {
          "output_type": "stream",
          "text": [
            "The value of x is 5 and y is 10\n"
          ],
          "name": "stdout"
        }
      ]
    },
    {
      "cell_type": "code",
      "metadata": {
        "scrolled": true,
        "trusted": false,
        "id": "rohJ0RmQG5t6",
        "colab_type": "code",
        "colab": {
          "base_uri": "https://localhost:8080/",
          "height": 34
        },
        "outputId": "49b9aa0b-6cb9-440e-d060-cb4cf9ee79e3"
      },
      "source": [
        "print('I like {0} and {1}'.format('ice cream','chocolate'))"
      ],
      "execution_count": 30,
      "outputs": [
        {
          "output_type": "stream",
          "text": [
            "I like ice cream and chocolate\n"
          ],
          "name": "stdout"
        }
      ]
    },
    {
      "cell_type": "code",
      "metadata": {
        "scrolled": true,
        "trusted": false,
        "id": "ePTsWKD2G5t-",
        "colab_type": "code",
        "colab": {
          "base_uri": "https://localhost:8080/",
          "height": 34
        },
        "outputId": "be417884-9495-4861-8b7b-245d85388adf"
      },
      "source": [
        "print('I like {1} and {0}'.format('ice cream','chocolate'))"
      ],
      "execution_count": 41,
      "outputs": [
        {
          "output_type": "stream",
          "text": [
            "I like chocolate and ice cream\n"
          ],
          "name": "stdout"
        }
      ]
    },
    {
      "cell_type": "code",
      "metadata": {
        "scrolled": true,
        "trusted": false,
        "id": "MHagJ4n_G5uE",
        "colab_type": "code",
        "colab": {
          "base_uri": "https://localhost:8080/",
          "height": 34
        },
        "outputId": "2a7080ca-1a7e-4196-f0be-222f73253f1e"
      },
      "source": [
        "print('Hello {name}, {greeting}'.format(greeting = 'Good morning', name = 'Sachin !'))"
      ],
      "execution_count": 32,
      "outputs": [
        {
          "output_type": "stream",
          "text": [
            "Hello Sachin !, Good morning\n"
          ],
          "name": "stdout"
        }
      ]
    },
    {
      "cell_type": "markdown",
      "metadata": {
        "id": "liwzGLgJG5uJ",
        "colab_type": "text"
      },
      "source": [
        "### Task2\n",
        "#### Raman likes tea but he has coffee. Riya likes coffee but has tea. Write a program in python so that both can enjoy what they like."
      ]
    },
    {
      "cell_type": "code",
      "metadata": {
        "trusted": false,
        "id": "KLT5upfKG5uK",
        "colab_type": "code",
        "colab": {
          "base_uri": "https://localhost:8080/",
          "height": 51
        },
        "outputId": "fb86232b-7f81-4fe8-ca59-d17c415bfc45"
      },
      "source": [
        "# write your code after this line\n",
        "print('Raman likes {1} but he has {0}'.format('coffee','tea'))\n",
        "print('Riya likes {0} but has {1}'.format('coffee','tea'))\n"
      ],
      "execution_count": 42,
      "outputs": [
        {
          "output_type": "stream",
          "text": [
            "Raman likes tea but he has coffee\n",
            "Riya likes coffee but has tea\n"
          ],
          "name": "stdout"
        }
      ]
    },
    {
      "cell_type": "markdown",
      "metadata": {
        "heading_collapsed": true,
        "id": "S2j-VmN9G5uN",
        "colab_type": "text"
      },
      "source": [
        "### Task3\n",
        "Write a program for following\n",
        "- Input: 'Python'\n",
        "- Output: 642"
      ]
    },
    {
      "cell_type": "code",
      "metadata": {
        "hidden": true,
        "trusted": true,
        "id": "VEgfNycFG5uO",
        "colab_type": "code",
        "colab": {
          "base_uri": "https://localhost:8080/",
          "height": 34
        },
        "outputId": "09ae2b8e-126f-4f52-c1f2-b66cd56e791b"
      },
      "source": [
        "# write your code after this line\n",
        "a,b,c,d,e,f='Python'\n",
        "s=ord(a)+ord(b)+ord(c)+ord(d)+ord(e)+ord(f)\n",
        "print(s)"
      ],
      "execution_count": 33,
      "outputs": [
        {
          "output_type": "stream",
          "text": [
            "642\n"
          ],
          "name": "stdout"
        }
      ]
    },
    {
      "cell_type": "markdown",
      "metadata": {
        "id": "DjUR0ktSG5uR",
        "colab_type": "text"
      },
      "source": [
        "# Working with math, calendar, random, datetime"
      ]
    },
    {
      "cell_type": "code",
      "metadata": {
        "trusted": true,
        "id": "y8UbqGZ1G5uS",
        "colab_type": "code",
        "colab": {
          "base_uri": "https://localhost:8080/",
          "height": 51
        },
        "outputId": "ceb7ae99-2fc1-4d13-8053-5aa7e0f7458b"
      },
      "source": [
        "import math\n",
        "print(math.sqrt(25))\n",
        "#math.floor(10.8)\n",
        "#math.ceil(10.5) \n",
        "math.pi\n"
      ],
      "execution_count": 34,
      "outputs": [
        {
          "output_type": "stream",
          "text": [
            "5.0\n"
          ],
          "name": "stdout"
        },
        {
          "output_type": "execute_result",
          "data": {
            "text/plain": [
              "3.141592653589793"
            ]
          },
          "metadata": {
            "tags": []
          },
          "execution_count": 34
        }
      ]
    },
    {
      "cell_type": "code",
      "metadata": {
        "trusted": false,
        "id": "9Sofw03xG5uW",
        "colab_type": "code",
        "colab": {
          "base_uri": "https://localhost:8080/",
          "height": 51
        },
        "outputId": "a28b8858-36d6-4c4f-9d68-5f51c7244167"
      },
      "source": [
        "import random\n",
        "x = random.random() # generate any random number between 0 and 1\n",
        "print(\"x = \", x)\n",
        "\n",
        "y = random.randint(5,20)# generate any random number between 5 and 20\n",
        "print(\"y = \", y)"
      ],
      "execution_count": 35,
      "outputs": [
        {
          "output_type": "stream",
          "text": [
            "x =  0.7962617936543207\n",
            "y =  14\n"
          ],
          "name": "stdout"
        }
      ]
    },
    {
      "cell_type": "code",
      "metadata": {
        "trusted": false,
        "id": "zJhrO4MyG5uZ",
        "colab_type": "code",
        "colab": {
          "base_uri": "https://localhost:8080/",
          "height": 85
        },
        "outputId": "78f2ff89-49ba-4e23-de0f-4a990ca17190"
      },
      "source": [
        "import datetime\n",
        "\n",
        "date = datetime.datetime.now().date() # YYYY-MM-DD format\n",
        "year = datetime.datetime.now().year\n",
        "month = datetime.datetime.now().month\n",
        "day = datetime.datetime.now().day\n",
        "\n",
        "print(date)\n",
        "print(year)\n",
        "print(month)\n",
        "print(day)"
      ],
      "execution_count": 36,
      "outputs": [
        {
          "output_type": "stream",
          "text": [
            "2020-01-06\n",
            "2020\n",
            "1\n",
            "6\n"
          ],
          "name": "stdout"
        }
      ]
    },
    {
      "cell_type": "code",
      "metadata": {
        "scrolled": false,
        "trusted": true,
        "id": "cq9pMSf4G5uc",
        "colab_type": "code",
        "colab": {
          "base_uri": "https://localhost:8080/",
          "height": 204
        },
        "outputId": "5b992c97-d499-4fee-967b-8cf64cae03ab"
      },
      "source": [
        "import calendar\n",
        "\n",
        "year = int(input(\"Enter Year : \"))\n",
        "month = int(input(\"Enter the Month : \"))\n",
        "\n",
        "print(calendar.month(year, month))"
      ],
      "execution_count": 37,
      "outputs": [
        {
          "output_type": "stream",
          "text": [
            "Enter Year : 98\n",
            "Enter the Month : 3\n",
            "      March 98\n",
            "Mo Tu We Th Fr Sa Su\n",
            "                1  2\n",
            " 3  4  5  6  7  8  9\n",
            "10 11 12 13 14 15 16\n",
            "17 18 19 20 21 22 23\n",
            "24 25 26 27 28 29 30\n",
            "31\n",
            "\n"
          ],
          "name": "stdout"
        }
      ]
    },
    {
      "cell_type": "markdown",
      "metadata": {
        "heading_collapsed": true,
        "id": "LF2GsLtJG5uf",
        "colab_type": "text"
      },
      "source": [
        "### Task 4\n",
        "#### WAP to justify the value of a number (right, left, center) in 20 chars with one digit accuracy. Use format() to print value of variable z (float) right justify in 30 chars with 3 digit accuracy."
      ]
    },
    {
      "cell_type": "code",
      "metadata": {
        "hidden": true,
        "trusted": false,
        "id": "11p2UvGWG5uj",
        "colab_type": "code",
        "colab": {
          "base_uri": "https://localhost:8080/",
          "height": 119
        },
        "outputId": "1dcfafa2-c525-4c78-8cde-aa477a7bdd99"
      },
      "source": [
        "x=15246.59\n",
        "y=14.156\n",
        "print(format(x,'>20.1f'))\n",
        "print(format(y,'>20.1f'))\n",
        "\n",
        "print(format(x,'<20.1f'))\n",
        "print(format(y,'<20.1f'))\n",
        "\n",
        "print(format(x,'^20.1f'))\n",
        "print(format(y,'^20.1f'))\n",
        "z=20.745124\n",
        "\n",
        "#write your code here\n"
      ],
      "execution_count": 38,
      "outputs": [
        {
          "output_type": "stream",
          "text": [
            "             15246.6\n",
            "                14.2\n",
            "15246.6             \n",
            "14.2                \n",
            "      15246.6       \n",
            "        14.2        \n"
          ],
          "name": "stdout"
        }
      ]
    }
  ]
}